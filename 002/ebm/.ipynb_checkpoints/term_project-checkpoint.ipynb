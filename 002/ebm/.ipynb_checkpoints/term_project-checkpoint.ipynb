{
 "cells": [
  {
   "cell_type": "markdown",
   "metadata": {},
   "source": [
    "# Term Project"
   ]
  },
  {
   "cell_type": "code",
   "execution_count": 2,
   "metadata": {},
   "outputs": [
    {
     "ename": "ModuleNotFoundError",
     "evalue": "No module named 'climlab'",
     "output_type": "error",
     "traceback": [
      "\u001b[0;31m---------------------------------------------------------------------------\u001b[0m",
      "\u001b[0;31mModuleNotFoundError\u001b[0m                       Traceback (most recent call last)",
      "\u001b[0;32m<ipython-input-2-5d0f98d279d0>\u001b[0m in \u001b[0;36m<module>\u001b[0;34m\u001b[0m\n\u001b[1;32m      4\u001b[0m \u001b[0;32mimport\u001b[0m \u001b[0mnumpy\u001b[0m \u001b[0;32mas\u001b[0m \u001b[0mnp\u001b[0m\u001b[0;34m\u001b[0m\u001b[0;34m\u001b[0m\u001b[0m\n\u001b[1;32m      5\u001b[0m \u001b[0;32mimport\u001b[0m \u001b[0mmatplotlib\u001b[0m\u001b[0;34m.\u001b[0m\u001b[0mpyplot\u001b[0m \u001b[0;32mas\u001b[0m \u001b[0mplt\u001b[0m\u001b[0;34m\u001b[0m\u001b[0;34m\u001b[0m\u001b[0m\n\u001b[0;32m----> 6\u001b[0;31m \u001b[0;32mimport\u001b[0m \u001b[0mclimlab\u001b[0m\u001b[0;34m\u001b[0m\u001b[0;34m\u001b[0m\u001b[0m\n\u001b[0m",
      "\u001b[0;31mModuleNotFoundError\u001b[0m: No module named 'climlab'"
     ]
    }
   ],
   "source": [
    "%reload_ext autoreload\n",
    "%autoreload 2\n",
    "\n",
    "import numpy as np\n",
    "import matplotlib.pyplot as plt\n",
    "import climlab"
   ]
  },
  {
   "cell_type": "code",
   "execution_count": null,
   "metadata": {},
   "outputs": [],
   "source": []
  },
  {
   "cell_type": "code",
   "execution_count": null,
   "metadata": {},
   "outputs": [],
   "source": []
  },
  {
   "cell_type": "code",
   "execution_count": 2,
   "metadata": {},
   "outputs": [],
   "source": [
    "# CONFIGURE DOMAIN\n",
    "N_lat = 90 # number of latitude points\n",
    "N_lev = 50 # number of vertical levels\n",
    "\n",
    "# PRESCRIBE BOUNDARY CONDITIONS\n",
    "d_ml = 5. # mixed layer depth used to calculate surface heat capacity [m]\n",
    "RH_surf = 0.8 # surface relative humidity [unitless]\n",
    "\n",
    "# CONFIGURE CONVECTION SCHEME\n",
    "conv_scheme = 'MALR' # hard adjustment convection scheme [MALR, DALR, or set custom lapse rate]\n",
    "\n",
    "# CONFIGURE RADIATION SCHEME\n",
    "day_of_year = 80. # use insolation at equinox [days after Jan 1]"
   ]
  },
  {
   "cell_type": "markdown",
   "metadata": {},
   "source": [
    "## Annual mean RCE"
   ]
  },
  {
   "cell_type": "code",
   "execution_count": 3,
   "metadata": {},
   "outputs": [],
   "source": [
    "# initialize state with mixed layer depth d_ml\n",
    "state_dml = climlab.column_state(num_lev=N_lev, num_lat=N_lat, water_depth=d_ml)"
   ]
  },
  {
   "cell_type": "code",
   "execution_count": 4,
   "metadata": {},
   "outputs": [
    {
     "name": "stdout",
     "output_type": "stream",
     "text": [
      "Opened data from /home/miyawaki/.conda/envs/geos24600/lib/python3.8/site-packages/climlab/radiation/data/ozone/apeozone_cam3_5_54.nc\n"
     ]
    },
    {
     "name": "stderr",
     "output_type": "stream",
     "text": [
      "/home/miyawaki/.conda/envs/geos24600/lib/python3.8/site-packages/climlab/radiation/radiation.py:156: UserWarning: Some grid points are beyond the bounds of the ozone file. Ozone values will be extrapolated.\n",
      "  warnings.warn('Some grid points are beyond the bounds of the ozone file. Ozone values will be extrapolated.')\n",
      "/home/miyawaki/.conda/envs/geos24600/lib/python3.8/site-packages/climlab/radiation/radiation.py:163: UserWarning: Interpolation of ozone data failed. Setting O3 to zero instead.\n",
      "  warnings.warn('Interpolation of ozone data failed. Setting O3 to zero instead.')\n"
     ]
    }
   ],
   "source": [
    "# construct the RCE model\n",
    "rce = climlab.TimeDependentProcess(state=state_dml)\n",
    "h2o = climlab.radiation.ManabeWaterVapor(state=state_dml)\n",
    "conv = climlab.convection.ConvectiveAdjustment(state={'Tatm':rce.state['Tatm']}, adj_lapse_rate=6.5, **rce.param)\n",
    "sol = climlab.radiation.DailyInsolation(domains=rce.Ts.domain)\n",
    "rad = climlab.radiation.RRTMG(state=state_dml, insolation=sol.insolation, specific_humidity=h2o.q, coszen=sol.coszen)\n",
    "rce.add_subprocess('radiation', rad)\n",
    "rce.add_subprocess('insolation', sol)\n",
    "rce.add_subprocess('water', h2o)\n",
    "rce.add_subprocess('convection', conv)"
   ]
  },
  {
   "cell_type": "code",
   "execution_count": 5,
   "metadata": {},
   "outputs": [],
   "source": [
    "[mesh_lat, mesh_lev] = np.meshgrid(rce.lat, rce.lev, indexing='ij')"
   ]
  },
  {
   "cell_type": "markdown",
   "metadata": {},
   "source": [
    "The initial temperature profile looks as follows."
   ]
  },
  {
   "cell_type": "code",
   "execution_count": 6,
   "metadata": {
    "scrolled": false
   },
   "outputs": [],
   "source": [
    "def tatm_lat_lev(model):\n",
    "    plt.figure()\n",
    "    plt.contourf(mesh_lat, mesh_lev, model.Tatm, cmap=plt.cm.coolwarm)\n",
    "    plt.xlabel('Latitude (deg)')\n",
    "    plt.ylabel('Pressure (hPa)')\n",
    "    plt.colorbar(label='Temperature (K)')\n",
    "    plt.gca().invert_yaxis()\n",
    "    plt.show()"
   ]
  },
  {
   "cell_type": "code",
   "execution_count": 7,
   "metadata": {},
   "outputs": [
    {
     "data": {
      "image/png": "[encoded data removed]",
      "text/plain": [
       "<Figure size 432x288 with 2 Axes>"
      ]
     },
     "metadata": {
      "needs_background": "light"
     },
     "output_type": "display_data"
    }
   ],
   "source": [
    "tatm_lat_lev(rce)"
   ]
  },
  {
   "cell_type": "markdown",
   "metadata": {},
   "source": [
    "Let's let the model integrate for a year and check the temperature profile."
   ]
  },
  {
   "cell_type": "code",
   "execution_count": 95,
   "metadata": {
    "scrolled": true
   },
   "outputs": [
    {
     "name": "stdout",
     "output_type": "stream",
     "text": [
      "Integrating for 365 steps, 365.2422 days, or 1.0 years.\n",
      "Total elapsed time is 0.9993368783782377 years.\n"
     ]
    }
   ],
   "source": [
    "rce.integrate_years(1.)\n",
    "tatm_lat_lev(rce)"
   ]
  },
  {
   "cell_type": "markdown",
   "metadata": {},
   "source": [
    "The current model doesn't include large-scale dynamics so there is a large meridional temperature gradient. Let's run the model for another year to see if it is equilibrated."
   ]
  },
  {
   "cell_type": "code",
   "execution_count": null,
   "metadata": {},
   "outputs": [
    {
     "name": "stdout",
     "output_type": "stream",
     "text": [
      "Integrating for 365 steps, 365.2422 days, or 1 years.\n"
     ]
    }
   ],
   "source": [
    "rce.integrate_years(1)\n",
    "tatm_lat_lev(rce)"
   ]
  },
  {
   "cell_type": "markdown",
   "metadata": {},
   "source": [
    "The upper troposphere appears to have warmed slightly. Let's run another year and see if it's reached equilibrium."
   ]
  },
  {
   "cell_type": "code",
   "execution_count": null,
   "metadata": {},
   "outputs": [],
   "source": [
    "rce.integrate_years(1)\n",
    "tatm_lat_lev(rce)"
   ]
  },
  {
   "cell_type": "markdown",
   "metadata": {},
   "source": [
    "It looks like the 2D RCE model is effectively in equilibrium after 3 years. We can use this as the initial condition for our next model where we include the role of dynamics by adding diffusion. We will call this the 2D RCAE model.\n",
    "\n",
    "## Annual mean RCAE"
   ]
  },
  {
   "cell_type": "code",
   "execution_count": null,
   "metadata": {},
   "outputs": [],
   "source": [
    "rcae = climlab.process_like(rce)"
   ]
  },
  {
   "cell_type": "code",
   "execution_count": null,
   "metadata": {},
   "outputs": [],
   "source": []
  }
 ],
 "metadata": {
  "kernelspec": {
   "display_name": "Python 3",
   "language": "python",
   "name": "python3"
  },
  "language_info": {
   "codemirror_mode": {
    "name": "ipython",
    "version": 3
   },
   "file_extension": ".py",
   "mimetype": "text/x-python",
   "name": "python",
   "nbconvert_exporter": "python",
   "pygments_lexer": "ipython3",
   "version": "3.8.5"
  }
 },
 "nbformat": 4,
 "nbformat_minor": 4
}
